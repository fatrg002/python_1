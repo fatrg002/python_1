{
 "cells": [
  {
   "cell_type": "markdown",
   "metadata": {},
   "source": [
    "# Python - udemy - 第二天"
   ]
  },
  {
   "cell_type": "markdown",
   "metadata": {},
   "source": [
    "好的寫法\n",
    "\n",
    "1.程式碼易讀性很重要\n"
   ]
  },
  {
   "cell_type": "markdown",
   "metadata": {},
   "source": [
    "# 溫度轉換程式"
   ]
  },
  {
   "cell_type": "code",
   "execution_count": 2,
   "metadata": {},
   "outputs": [
    {
     "name": "stdout",
     "output_type": "stream",
     "text": [
      "請輸入攝氏溫度22\n",
      "華氏溫度為: 71.6\n"
     ]
    }
   ],
   "source": [
    "c = input('請輸入攝氏溫度')\n",
    "c = float(c)\n",
    "f = c*9/5+32\n",
    "print('華氏溫度為:',f)"
   ]
  },
  {
   "cell_type": "markdown",
   "metadata": {},
   "source": [
    "# bmi計算程式"
   ]
  },
  {
   "cell_type": "code",
   "execution_count": 9,
   "metadata": {},
   "outputs": [
    {
     "name": "stdout",
     "output_type": "stream",
     "text": [
      "請輸入身高150\n",
      "請輸入體重43\n",
      "正常喔，恭喜 19.11111111111111\n"
     ]
    }
   ],
   "source": [
    "h=input('請輸入身高')\n",
    "w=input('請輸入體重')\n",
    "h=int(h)\n",
    "w=int(w)\n",
    "h=h/100\n",
    "bmi = w/h/h\n",
    "\n",
    "if bmi < 18.5:\n",
    "    print('過輕啦，瘦子',bmi)\n",
    "elif bmi >= 18.5 and bmi <24:\n",
    "    print('正常喔，恭喜',bmi)\n",
    "elif bmi >= 24 and bmi <27:\n",
    "    print('過重',bmi)\n",
    "elif bmi <= 27 and bmi <30:\n",
    "    print('輕度肥胖',bmi)\n",
    "elif bmi <= 30 and bmi <35:\n",
    "    print('中度肥胖',bmi)\n",
    "elif bmi >= 35:\n",
    "    print('重度肥胖',bmi)"
   ]
  },
  {
   "cell_type": "markdown",
   "metadata": {},
   "source": [
    "# 年齡判斷考駕照程式"
   ]
  },
  {
   "cell_type": "code",
   "execution_count": 3,
   "metadata": {},
   "outputs": [
    {
     "name": "stdout",
     "output_type": "stream",
     "text": [
      "請輸入國家 :日本\n",
      "請輸入年齡 :20\n",
      "國家輸入錯誤，僅能輸入台灣或美國\n"
     ]
    }
   ],
   "source": [
    "country = input ('請輸入國家 :')\n",
    "age = input('請輸入年齡 :')\n",
    "age = int(age)\n",
    "\n",
    "if country == '台灣' :\n",
    "    if age >= 18:\n",
    "        print('ok已成年可以考駕照')\n",
    "    else:\n",
    "        print('小屁孩去旁邊')\n",
    "elif country == '美國':\n",
    "    if age >= 16:\n",
    "        print('ok已成年可以考駕照')\n",
    "    else:\n",
    "        print('小屁孩去旁邊')\n",
    "else:\n",
    "    print('國家輸入錯誤，僅能輸入台灣或美國')"
   ]
  },
  {
   "cell_type": "markdown",
   "metadata": {},
   "source": [
    "# 密碼重試程式"
   ]
  },
  {
   "cell_type": "code",
   "execution_count": 8,
   "metadata": {},
   "outputs": [
    {
     "name": "stdout",
     "output_type": "stream",
     "text": [
      "請輸入密碼，三次機會a1234567\n",
      "登入成功\n"
     ]
    }
   ],
   "source": [
    "password = 'a1234567'\n",
    "i = 3\n",
    "while True:\n",
    "    key = input('請輸入密碼，三次機會')\n",
    "    if key == password:\n",
    "        print('登入成功')\n",
    "        break\n",
    "    else:\n",
    "        i = i-1\n",
    "        print('密碼錯誤，還剩',i,'次機會')\n",
    "        if i == 0:\n",
    "            print('沒有剩餘機會登入失敗')\n",
    "            break\n",
    "            "
   ]
  },
  {
   "cell_type": "markdown",
   "metadata": {},
   "source": [
    "# 密碼重試程式2"
   ]
  },
  {
   "cell_type": "code",
   "execution_count": 9,
   "metadata": {},
   "outputs": [
    {
     "name": "stdout",
     "output_type": "stream",
     "text": [
      "請輸入密碼，三次機會safsa\n",
      "密碼錯誤，還剩 2 次機會\n",
      "請輸入密碼，三次機會fqwfq\n",
      "密碼錯誤，還剩 1 次機會\n",
      "請輸入密碼，三次機會fwqf\n",
      "密碼錯誤，還剩 0 次機會\n"
     ]
    }
   ],
   "source": [
    "password = 'a1234567'\n",
    "i = 3\n",
    "while i > 0:\n",
    "    ㄛ\n",
    "    key = input('請輸入密碼，三次機會')\n",
    "    if key == password:\n",
    "        print('登入成功')\n",
    "        break\n",
    "    else:\n",
    "        print('密碼錯誤')\n",
    "        if i > 0:\n",
    "            print('還有',i,'次機會')\n",
    "        else:\n",
    "            print('沒機會了')\n",
    "            "
   ]
  },
  {
   "cell_type": "code",
   "execution_count": null,
   "metadata": {},
   "outputs": [],
   "source": []
  }
 ],
 "metadata": {
  "kernelspec": {
   "display_name": "Python 3",
   "language": "python",
   "name": "python3"
  },
  "language_info": {
   "codemirror_mode": {
    "name": "ipython",
    "version": 3
   },
   "file_extension": ".py",
   "mimetype": "text/x-python",
   "name": "python",
   "nbconvert_exporter": "python",
   "pygments_lexer": "ipython3",
   "version": "3.7.3"
  }
 },
 "nbformat": 4,
 "nbformat_minor": 2
}
