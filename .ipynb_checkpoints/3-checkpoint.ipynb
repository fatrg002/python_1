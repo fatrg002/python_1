{
 "cells": [
  {
   "cell_type": "markdown",
   "metadata": {},
   "source": [
    "# Day 3"
   ]
  },
  {
   "cell_type": "markdown",
   "metadata": {},
   "source": [
    "# 產生隨機整數1~100"
   ]
  },
  {
   "cell_type": "code",
   "execution_count": 7,
   "metadata": {},
   "outputs": [
    {
     "name": "stdout",
     "output_type": "stream",
     "text": [
      "16\n"
     ]
    }
   ],
   "source": [
    "import random\n",
    "r = random.randint(1,100)\n",
    "print(r)"
   ]
  },
  {
   "cell_type": "markdown",
   "metadata": {},
   "source": [
    "# 猜數字遊戲"
   ]
  },
  {
   "cell_type": "code",
   "execution_count": 4,
   "metadata": {},
   "outputs": [
    {
     "name": "stdout",
     "output_type": "stream",
     "text": [
      "輸入開始值1\n",
      "輸入結束值50\n",
      "請輸入數字20\n",
      "大一點\n",
      "這是你猜的第 1 次\n",
      "請輸入數字30\n",
      "大一點\n",
      "這是你猜的第 2 次\n",
      "請輸入數字40\n",
      "恭喜猜對\n",
      "這是你猜的第 3 次\n"
     ]
    }
   ],
   "source": [
    "import random\n",
    "start = input('輸入開始值')\n",
    "end = input('輸入結束值')\n",
    "start = int(start)\n",
    "end = int(end)\n",
    "count = 0\n",
    "r = random.randint(start,end)\n",
    "while True:\n",
    "    count += 1\n",
    "    x = input('請輸入數字')\n",
    "    x = int(x)\n",
    "    if  r==x :\n",
    "        print('恭喜猜對')\n",
    "        print('這是你猜的第',count,'次')\n",
    "        break\n",
    "    elif r<x :\n",
    "        print('小一點')\n",
    "    elif r>x :\n",
    "        print('大一點')\n",
    "    print('這是你猜的第',count,'次')"
   ]
  },
  {
   "cell_type": "markdown",
   "metadata": {},
   "source": [
    "# for"
   ]
  },
  {
   "cell_type": "code",
   "execution_count": 11,
   "metadata": {},
   "outputs": [
    {
     "name": "stdout",
     "output_type": "stream",
     "text": [
      "a\n",
      "u\n",
      "d\n",
      "i\n",
      "4\n",
      "True\n",
      "True\n",
      "False\n"
     ]
    }
   ],
   "source": [
    "car = 'audi'\n",
    "for c in car:\n",
    "    print(c)\n",
    "print(len(car))\n",
    "print('a' in car)\n",
    "print('au' in car)\n",
    "print('s' in car)"
   ]
  },
  {
   "cell_type": "markdown",
   "metadata": {},
   "source": [
    "# 讀取檔案"
   ]
  },
  {
   "cell_type": "code",
   "execution_count": 25,
   "metadata": {},
   "outputs": [
    {
     "name": "stdout",
     "output_type": "stream",
     "text": [
      "['咖哩', '蛋包飯', '炒麵', '炒飯', '魷魚羹', '大腸麵線', '牛排']\n"
     ]
    }
   ],
   "source": [
    "data = []\n",
    "with open('food.txt','r',encoding=\"utf-8\") as f :\n",
    "    for line in f:\n",
    "        data.append(line.strip())#strip去除換行的功能，只能對字串做\n",
    "print(data)        "
   ]
  },
  {
   "cell_type": "code",
   "execution_count": null,
   "metadata": {},
   "outputs": [],
   "source": []
  },
  {
   "cell_type": "code",
   "execution_count": null,
   "metadata": {},
   "outputs": [],
   "source": []
  },
  {
   "cell_type": "code",
   "execution_count": null,
   "metadata": {},
   "outputs": [],
   "source": []
  }
 ],
 "metadata": {
  "kernelspec": {
   "display_name": "Python 3",
   "language": "python",
   "name": "python3"
  },
  "language_info": {
   "codemirror_mode": {
    "name": "ipython",
    "version": 3
   },
   "file_extension": ".py",
   "mimetype": "text/x-python",
   "name": "python",
   "nbconvert_exporter": "python",
   "pygments_lexer": "ipython3",
   "version": "3.7.3"
  }
 },
 "nbformat": 4,
 "nbformat_minor": 2
}
