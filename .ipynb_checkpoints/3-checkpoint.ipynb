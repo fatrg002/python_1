{
 "cells": [
  {
   "cell_type": "markdown",
   "metadata": {},
   "source": [
    "# Day 3"
   ]
  },
  {
   "cell_type": "markdown",
   "metadata": {},
   "source": [
    "# 產生隨機整數1~100"
   ]
  },
  {
   "cell_type": "code",
   "execution_count": 7,
   "metadata": {},
   "outputs": [
    {
     "name": "stdout",
     "output_type": "stream",
     "text": [
      "16\n"
     ]
    }
   ],
   "source": [
    "import random\n",
    "r = random.randint(1,100)\n",
    "print(r)"
   ]
  },
  {
   "cell_type": "markdown",
   "metadata": {},
   "source": [
    "# 猜數字遊戲"
   ]
  },
  {
   "cell_type": "code",
   "execution_count": 1,
   "metadata": {},
   "outputs": [
    {
     "name": "stdout",
     "output_type": "stream",
     "text": [
      "請輸入數字50\n",
      "小一點\n",
      "請輸入數字30\n",
      "大一點\n",
      "請輸入數字35\n",
      "小一點\n",
      "請輸入數字32\n",
      "大一點\n",
      "請輸入數字33\n",
      "大一點\n",
      "請輸入數字34\n",
      "恭喜猜對\n"
     ]
    }
   ],
   "source": [
    "import random\n",
    "r = random.randint(1,100)\n",
    "while True:\n",
    "    x = input('請輸入數字')\n",
    "    x = int(x)\n",
    "    if  r==x :\n",
    "        print('恭喜猜對')\n",
    "        break\n",
    "    elif r<x :\n",
    "        print('小一點')\n",
    "    elif r>x :\n",
    "        print('大一點')"
   ]
  },
  {
   "cell_type": "code",
   "execution_count": null,
   "metadata": {},
   "outputs": [],
   "source": []
  }
 ],
 "metadata": {
  "kernelspec": {
   "display_name": "Python 3",
   "language": "python",
   "name": "python3"
  },
  "language_info": {
   "codemirror_mode": {
    "name": "ipython",
    "version": 3
   },
   "file_extension": ".py",
   "mimetype": "text/x-python",
   "name": "python",
   "nbconvert_exporter": "python",
   "pygments_lexer": "ipython3",
   "version": "3.7.3"
  }
 },
 "nbformat": 4,
 "nbformat_minor": 2
}
